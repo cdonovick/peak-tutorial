{
 "cells": [
  {
   "cell_type": "code",
   "execution_count": 3,
   "id": "81801364",
   "metadata": {},
   "outputs": [],
   "source": [
    "from tutorial_utils import magma_to_verilog_string, smt_to_smtlib_string\n",
    "\n",
    "import hwtypes as hw\n",
    "import magma as m\n",
    "\n",
    "from peak import Peak # the base class of Peak circuits\n",
    "from peak import family_closure\n",
    "from peak import family\n"
   ]
  },
  {
   "cell_type": "markdown",
   "id": "2cfb8cd1",
   "metadata": {},
   "source": [
    "In the previous section we introduced hwtypes and how we can use python to meta-program it with higher order functions.\n",
    "In this section we will introduce peak which extends the expression language of hwtypes. \n",
    "\n",
    "Peak circuits are defined in a python class.  Similar to hwtypes, a peak program can be executed in pure python, symbolically executed with smt, or generate a circuit with magma.  Each of these interpretations must additionally supply implementations of primitives such as registers which are not defined in hwtypes.   A Peak class is defined in a \"family closure\" which provides access to the type constructors and primitives of the interpretation. \n",
    "\n",
    "Peak circuits define their behavior in there `__call__` method.  Peak aims to match the semantics of a normal, to facilitate this, Peak allows the use of `if` statement on live values.  This achieved by compiling them to `ite`s and hence they are subject to same constraints as those described in the previous section.  Subcomponent of a circuit are defined in its `__init__` method.  \n",
    "\n",
    "In the following example we will demonstrate a basic peak program.\n",
    "\n",
    "By default the `family_closure` decorator associates with the base families (see: `peak.family`) which have constructors for bit types, bitvector types, registers, and ADTs.  However, these can be extend with arbitrary modules and types as needed. An extend set of families can be passed to the family by passing an object (typically a module) with attributes `PyFamily`, `SMTFamily`, and `MagmaFamily` to the `family_closure` decorator. E.g. `@family_closure(peak.family)` would explicity bind the closure to the defauly families. \n",
    "\n",
    "This association allows the family closure to provide a convenient syntax shortcut for calling the closure:\n",
    "\n",
    "```\n",
    "closure.Py == closure(family.PyFamily())\n",
    "closure.SMT == clolsure(family.SMTFamily())\n",
    "closure.Magma == closure(family.MagmaFamily())\n",
    "```\n",
    "\n",
    "`family.assemble` evokes the peak compiler passing the current namespace to the compiler with `locals(), globals()`. \n",
    "\n",
    "The peak compiler requires type annotation on `__call__` method in order generate ports in a magma context.\n",
    "\n",
    "add motivation"
   ]
  },
  {
   "cell_type": "code",
   "execution_count": null,
   "id": "45b7c884",
   "metadata": {},
   "outputs": [],
   "source": [
    "PyDataT = hw.BitVector[8]\n",
    "SmtDataT = hw.SMTBitVector[8]\n",
    "MagmaDataT = m.Bits[8]\n",
    "\n",
    "@family_closure\n",
    "def closure(family):\n",
    "    DataT = family.BitVector[8]\n",
    "    Bit = family.Bit\n",
    "    @family.assemble(locals(), globals())\n",
    "    class ALU(Peak):\n",
    "        def __call__(self, op: Bit, in_0: DataT, in_1: DataT) -> DataT:\n",
    "            if op:\n",
    "                return in_0 + in_1\n",
    "            else:\n",
    "                return in_0 - in_1\n",
    "    return ALU"
   ]
  },
  {
   "cell_type": "markdown",
   "id": "0c78e4ce",
   "metadata": {},
   "source": [
    "The peak compiler transorms this to the following hwtypes program (equivelent up to a renaming):\n"
   ]
  },
  {
   "cell_type": "code",
   "execution_count": null,
   "id": "d9866fe8",
   "metadata": {},
   "outputs": [],
   "source": [
    "# hwtypes impl\n",
    "@family_closure\n",
    "def closure(family):\n",
    "    DataT = family.BitVector[8]\n",
    "    Bit = family.Bit\n",
    "    class ALU(Peak):\n",
    "        def __call__(self, self, op: Bit, in_0: DataT, in_1: DataT) -> DataT:\n",
    "            _cond_0 = op\n",
    "            _return_0 = in_0 + in_1\n",
    "            _return_1 = in_0 + in_1\n",
    "            return Bit.ite(_cond_0, _return_0, return_1)\n"
   ]
  },
  {
   "cell_type": "code",
   "execution_count": null,
   "id": "a308745c",
   "metadata": {},
   "outputs": [],
   "source": [
    "AluTpy = closure.Py\n",
    "alu = AluTpy()\n",
    "print(alu(hw.Bit(0), PyDataT(2), PyDataT(1)))"
   ]
  },
  {
   "cell_type": "markdown",
   "id": "28211f22",
   "metadata": {},
   "source": [
    "Note that alu cannot be invoked with magma or smt types as the `if` will not be compiled"
   ]
  },
  {
   "cell_type": "code",
   "execution_count": null,
   "id": "531a6a7a",
   "metadata": {},
   "outputs": [],
   "source": [
    "print(alu(hw.SMTBit(name='op'), SmtDataT(name='x'), SmtDataT(name='y')))"
   ]
  },
  {
   "cell_type": "markdown",
   "id": "7d7fc8d1",
   "metadata": {},
   "source": [
    "However if we invoke it with the proper family it works as expected"
   ]
  },
  {
   "cell_type": "code",
   "execution_count": null,
   "id": "b7942563",
   "metadata": {},
   "outputs": [],
   "source": [
    "AluTsmt = closure.SMT\n",
    "alu = AluTsmt()\n",
    "results = alu(hw.SMTBit(name='op'), hw.SMTBitVector[8](name='x'), hw.SMTBitVector[8](name='y'))\n",
    "print(smt_to_smtlib_string(results))"
   ]
  },
  {
   "cell_type": "markdown",
   "id": "92afccb8",
   "metadata": {},
   "source": [
    "The magma family works slightly differently not only does it rewrite the `__call__` method it further reinterprets the entire class as a circuit.  It returns a magma circuit definition, which does not need to wrapped (compare with the hwtypes programs shown in the previous section).  "
   ]
  },
  {
   "cell_type": "code",
   "execution_count": null,
   "id": "79ab1548",
   "metadata": {},
   "outputs": [],
   "source": [
    "AluTmagma = closure.Magma\n",
    "print(magma_to_verilog_string(AluTmagma))"
   ]
  },
  {
   "cell_type": "markdown",
   "id": "ade5d31b",
   "metadata": {},
   "source": [
    "As mentioned in the intro, subcomponent can be declared in the `__init__` method.  Below we wrap the original ALU to extend it with additional instructions."
   ]
  },
  {
   "cell_type": "code",
   "execution_count": null,
   "id": "d40bf4be",
   "metadata": {},
   "outputs": [],
   "source": [
    "@family_closure\n",
    "def closure2(family):\n",
    "    BV = family.BitVector\n",
    "    DataT = BV[8]\n",
    "    Bit = family.Bit\n",
    "    AluT = closure(family)\n",
    "    @family.assemble(locals(), globals())\n",
    "    class ALU(Peak):\n",
    "        def __init__(self):\n",
    "                self.alu = AluT()\n",
    "            \n",
    "        def __call__(self, op: BV[2], in_0: DataT, in_1: DataT) -> DataT:\n",
    "            if ~op[1]: # 01 and 10\n",
    "                return self.alu(op[0],in_0, in_1)\n",
    "            elif op[0]:\n",
    "                return in_0 & in_1\n",
    "            else: # 00\n",
    "                return in_0 | in_1\n",
    "    return ALU"
   ]
  },
  {
   "cell_type": "markdown",
   "id": "9259b915",
   "metadata": {},
   "source": [
    "something something ADTs better than raw bitvectors"
   ]
  },
  {
   "cell_type": "code",
   "execution_count": null,
   "id": "0b860405",
   "metadata": {},
   "outputs": [],
   "source": [
    "class ISA(hw.Enum):\n",
    "    Add = hw.new_instruction()\n",
    "    Sub = hw.new_instruction()\n",
    "    And = hw.new_instruction()\n",
    "    Or = hw.new_instruction()\n",
    "\n",
    "@family_closure\n",
    "def closure3(family):\n",
    "    BV = family.BitVector\n",
    "    DataT = BV[8]\n",
    "    Bit = family.Bit\n",
    "    AluT = closure(family)\n",
    "    @family.assemble(locals(), globals())\n",
    "    class ALU(Peak):            \n",
    "        def __call__(self, op: ISA, in_0: DataT, in_1: DataT) -> DataT:\n",
    "            if op == ISA.Add:\n",
    "                return in_0 + in_1\n",
    "            elif op == ISA.Sub:\n",
    "                return in_0 - in_1\n",
    "            elif op == ISA.And: \n",
    "                return in_0 & in_1\n",
    "            else: \n",
    "                return in_0 | in_1\n",
    "    return ALU"
   ]
  },
  {
   "cell_type": "code",
   "execution_count": 8,
   "id": "67d3dfc3",
   "metadata": {},
   "outputs": [],
   "source": [
    "class Arith(hw.Enum):\n",
    "    Add = hw.new_instruction()\n",
    "    Sub = hw.new_instruction()\n",
    "    \n",
    "class Bitwise(hw.Enum):\n",
    "    And = hw.new_instruction()\n",
    "    Or = hw.new_instruction()\n",
    "    \n",
    "ISA = hw.Sum[Arith, Bitwise]\n",
    "@family_closure\n",
    "def lu_fc(family):\n",
    "    BV = family.BitVector\n",
    "    DataT = BV[8]\n",
    "\n",
    "    @family.assemble(locals(), globals())\n",
    "    class LU(Peak):\n",
    "        def __call__(self, op: Bitwise, in_0: DataT, in_1: DataT) -> DataT:\n",
    "            if op == Bitwise.And:\n",
    "                return in_0 & in_1\n",
    "            else:\n",
    "                return in_0 | in_1\n",
    "    return LU\n",
    "\n",
    "\n",
    "@family_closure\n",
    "def au_fc(family):\n",
    "    BV = family.BitVector\n",
    "    DataT = BV[8]\n",
    "\n",
    "    @family.assemble(locals(), globals())\n",
    "    class AU(Peak):\n",
    "        def __call__(self, op: Arith, in_0: DataT, in_1: DataT) -> DataT:\n",
    "            if op == Arith.Add:\n",
    "                return in_0 + in_1\n",
    "            else:\n",
    "                return in_0 - in_1\n",
    "    return AU\n",
    "\n",
    "\n",
    "@family_closure\n",
    "def alu_fc(family):\n",
    "    BV = family.BitVector\n",
    "    DataT = BV[8]\n",
    "    LU_t = lu_fc(family)\n",
    "    AU_t = au_fc(family)\n",
    "    \n",
    "    \n",
    "    @family.assemble(locals(), globals())\n",
    "    class ALU(Peak):           \n",
    "        def __init__(self):\n",
    "            self.au = AU_t()\n",
    "            self.lu = LU_t()\n",
    "            \n",
    "        def __call__(self, op: ISA, in_0: DataT, in_1: DataT) -> DataT:\n",
    "            if op[Arith].match:\n",
    "                return self.au(op[Arith].value, in_0, in_1)\n",
    "            else:\n",
    "                return self.lu(op[Bitwise].value, in_0, in_1)\n",
    "    return ALU"
   ]
  },
  {
   "cell_type": "code",
   "execution_count": null,
   "id": "9006ba04",
   "metadata": {},
   "outputs": [],
   "source": []
  },
  {
   "cell_type": "code",
   "execution_count": null,
   "id": "1abee863",
   "metadata": {},
   "outputs": [],
   "source": []
  }
 ],
 "metadata": {
  "kernelspec": {
   "display_name": "Python 3 (ipykernel)",
   "language": "python",
   "name": "python3"
  },
  "language_info": {
   "codemirror_mode": {
    "name": "ipython",
    "version": 3
   },
   "file_extension": ".py",
   "mimetype": "text/x-python",
   "name": "python",
   "nbconvert_exporter": "python",
   "pygments_lexer": "ipython3",
   "version": "3.9.12"
  }
 },
 "nbformat": 4,
 "nbformat_minor": 5
}
