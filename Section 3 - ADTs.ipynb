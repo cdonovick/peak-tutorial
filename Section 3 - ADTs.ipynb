{
 "cells": [
  {
   "cell_type": "markdown",
   "id": "a8b454e0",
   "metadata": {},
   "source": [
    "In the previous section we introduced `Enum` and `Sum`.   In this section we will give a more thoruogh introduction ADTs.\n",
    "\n",
    "ADTs in peak do not have a fixed representation in bitvectors.  Instead this representation is later defined seperately with an *assembler*.  This allows a designer to fix the semenatics procossor with respect an abstract instruction without defining the exact bit level encoding.  This makes it simple to extend the instruction set as one need not edit existing code."
   ]
  },
  {
   "cell_type": "code",
   "execution_count": 1,
   "id": "d980dc29",
   "metadata": {},
   "outputs": [],
   "source": [
    "import hwtypes as hw"
   ]
  },
  {
   "cell_type": "markdown",
   "id": "5cab9200",
   "metadata": {},
   "source": [
    "Enums define a set of named abstract values.  They are inherited from `hw.Enum`.\n",
    "\n",
    "Enum members may be assigned a value which acts as suggestion to the assembler or may be left entirely abstract using `hw.Enum.Auto` or its alias `new_instruction`.  Enum members suppot equals and not equals.  "
   ]
  },
  {
   "cell_type": "code",
   "execution_count": null,
   "id": "d4ce651d",
   "metadata": {},
   "outputs": [],
   "source": [
    "class Opcode(hw.Enum):\n",
    "    "
   ]
  },
  {
   "cell_type": "markdown",
   "id": "43a265a7",
   "metadata": {},
   "source": [
    "Tuple documentation"
   ]
  },
  {
   "cell_type": "code",
   "execution_count": 2,
   "id": "2770382f",
   "metadata": {},
   "outputs": [],
   "source": [
    "# Tuple"
   ]
  },
  {
   "cell_type": "code",
   "execution_count": null,
   "id": "427f8827",
   "metadata": {},
   "outputs": [],
   "source": []
  },
  {
   "cell_type": "code",
   "execution_count": null,
   "id": "23476cab",
   "metadata": {},
   "outputs": [],
   "source": [
    "# class T(enum): ...\n",
    "\n",
    "# class Ext(enum, extends=T): ... # copy elements of T into Ext\n",
    "\n",
    "# T < Ext\n",
    "\n",
    "#from hwtypes import Sum\n",
    "#T = Sum[hw.Bit, hw.BitVector[4]]\n",
    "#S = Sum[hw.Bit, hw.BitVector[4], hw.BitVector[6]]\n",
    "#issubclass(S, T)"
   ]
  }
 ],
 "metadata": {
  "kernelspec": {
   "display_name": "Python 3 (ipykernel)",
   "language": "python",
   "name": "python3"
  },
  "language_info": {
   "codemirror_mode": {
    "name": "ipython",
    "version": 3
   },
   "file_extension": ".py",
   "mimetype": "text/x-python",
   "name": "python",
   "nbconvert_exporter": "python",
   "pygments_lexer": "ipython3",
   "version": "3.10.4"
  }
 },
 "nbformat": 4,
 "nbformat_minor": 5
}
