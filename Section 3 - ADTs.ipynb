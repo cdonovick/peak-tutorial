{
 "cells": [
  {
   "cell_type": "markdown",
   "id": "a8b454e0",
   "metadata": {},
   "source": [
    "In the previous section we introduced `Enum` and `Sum`.   In this section we will give a more thoruogh introduction ADTs.\n",
    "\n",
    "ADTs in peak do not have a fixed representation in bitvectors.  Instead this representation is later defined seperately with an *assembler*.  This allows a designer to fix the semenatics procossor with respect an abstract instruction without defining the exact bit level encoding.  This makes it simple to extend the instruction set as one need not edit existing code.\n",
    "\n",
    "ADTs are one of the most complex parts of peak for they"
   ]
  },
  {
   "cell_type": "code",
   "execution_count": 1,
   "id": "d980dc29",
   "metadata": {},
   "outputs": [],
   "source": [
    "import hwtypes as hw\n",
    "from hwtypes.adt import Enum, Product, TaggedUnion, Sum, Tuple"
   ]
  },
  {
   "cell_type": "markdown",
   "id": "5cab9200",
   "metadata": {},
   "source": [
    "Enums define a set of named abstract values.  They are inherited from `hw.Enum`.\n",
    "\n",
    "Enum members may be assigned a value which acts as suggestion to the assembler or may be left entirely abstract using `hw.Enum.Auto` or its alias `new_instruction`.  Enum members suppot equals and not equals.  "
   ]
  },
  {
   "cell_type": "code",
   "execution_count": 2,
   "id": "d4ce651d",
   "metadata": {},
   "outputs": [],
   "source": [
    "class Opcode(Enum):\n",
    "    add = 1\n",
    "    sub = 2"
   ]
  },
  {
   "cell_type": "markdown",
   "id": "43a265a7",
   "metadata": {},
   "source": [
    "Tuple documentation"
   ]
  },
  {
   "cell_type": "code",
   "execution_count": 3,
   "id": "2770382f",
   "metadata": {},
   "outputs": [],
   "source": [
    "class Format1(Product):\n",
    "    field_1 = Opcode\n",
    "\n",
    "class Format2(Product):\n",
    "    field_1 = Opcode\n",
    "    field_2 = Opcode"
   ]
  },
  {
   "cell_type": "code",
   "execution_count": 4,
   "id": "427f8827",
   "metadata": {},
   "outputs": [],
   "source": [
    "class Instruction(TaggedUnion):\n",
    "    fmt1 = Format1\n",
    "    fmt2 = Format2"
   ]
  },
  {
   "cell_type": "code",
   "execution_count": 5,
   "id": "a781bcb0",
   "metadata": {},
   "outputs": [],
   "source": [
    "import itertools as it\n",
    "def enumerate_adt(t):\n",
    "    field_specifiers = t.field_dict.keys()\n",
    "    if issubclass(t, Sum):\n",
    "        for k,s in t.field_dict.items():\n",
    "            for v in enumerate_adt(s):\n",
    "                v_dict = {ki: v if ki == k else None for ki in field_specifiers}\n",
    "                yield t.from_values(v_dict)\n",
    "    elif issubclass(t, Tuple):\n",
    "        iters = []\n",
    "        for s in t.field_dict.values():\n",
    "            iters.append(enumerate_adt(s))\n",
    "        for args in it.product(*iters):\n",
    "            v_dict = {k: v for k,v in zip(field_specifiers, args)}\n",
    "            yield t.from_values(v_dict)\n",
    "    else:\n",
    "        yield from t.field_dict.values()\n",
    "        "
   ]
  },
  {
   "cell_type": "code",
   "execution_count": 6,
   "id": "940f0822",
   "metadata": {},
   "outputs": [
    {
     "name": "stdout",
     "output_type": "stream",
     "text": [
      "Instruction(fmt1=Format1(field_1=Opcode.add), fmt2=None)\n",
      "Instruction(fmt1=Format1(field_1=Opcode.sub), fmt2=None)\n",
      "Instruction(fmt1=None, fmt2=Format2(field_1=Opcode.add, field_2=Opcode.add))\n",
      "Instruction(fmt1=None, fmt2=Format2(field_1=Opcode.add, field_2=Opcode.sub))\n",
      "Instruction(fmt1=None, fmt2=Format2(field_1=Opcode.sub, field_2=Opcode.add))\n",
      "Instruction(fmt1=None, fmt2=Format2(field_1=Opcode.sub, field_2=Opcode.sub))\n"
     ]
    }
   ],
   "source": [
    "for i in enumerate_adt(Instruction):\n",
    "    print(i)"
   ]
  },
  {
   "cell_type": "code",
   "execution_count": 7,
   "id": "23476cab",
   "metadata": {},
   "outputs": [],
   "source": [
    "# class T(enum): ...\n",
    "\n",
    "# class Ext(enum, extends=T): ... # copy elements of T into Ext\n",
    "\n",
    "# T < Ext\n",
    "\n",
    "#from hwtypes import Sum\n",
    "#T = Sum[hw.Bit, hw.BitVector[4]]\n",
    "#S = Sum[hw.Bit, hw.BitVector[4], hw.BitVector[6]]\n",
    "#issubclass(S, T)"
   ]
  }
 ],
 "metadata": {
  "kernelspec": {
   "display_name": "Python 3 (ipykernel)",
   "language": "python",
   "name": "python3"
  },
  "language_info": {
   "codemirror_mode": {
    "name": "ipython",
    "version": 3
   },
   "file_extension": ".py",
   "mimetype": "text/x-python",
   "name": "python",
   "nbconvert_exporter": "python",
   "pygments_lexer": "ipython3",
   "version": "3.11.2"
  }
 },
 "nbformat": 4,
 "nbformat_minor": 5
}
