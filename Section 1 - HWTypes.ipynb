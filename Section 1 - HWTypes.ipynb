{
 "cells": [
  {
   "cell_type": "code",
   "execution_count": null,
   "id": "ec00d513",
   "metadata": {},
   "outputs": [],
   "source": [
    "%load_ext autoreload\n",
    "%autoreload 2"
   ]
  },
  {
   "cell_type": "code",
   "execution_count": null,
   "id": "8668cd81",
   "metadata": {
    "scrolled": true
   },
   "outputs": [],
   "source": [
    "from tutorial_utils import magma_to_verilog_string, smt_to_smtlib_string\n",
    "\n",
    "import hwtypes as hw\n",
    "import magma as m"
   ]
  },
  {
   "cell_type": "markdown",
   "id": "cb5f7f95",
   "metadata": {},
   "source": [
    "<mark>In general, everything could use more elaboration.</mark>\n",
    "\n",
    "The core of PEak is the python-embedded expression language of hwtypes. HWtypes defines abstract interfaces and type constructors for a number of types and kinds. This includes fixwidth bitvector, arbitrary precision floating point types, algebraic data types, and a bit (bool) type.  In this Section, we focus on the bit and bitvector type, the others are covered later.\n",
    "\n",
    "A `BitVector` type of length `n` is constucted with `BitVector[n]`. `BitVector` has two key subtypes `Unsigned` and `Signed`. The author of this tutorial would have preferred for the mixing of signed and unsigned bitvector types to universally raise an error. However, in order to support legacy code, such mixing instead has undefined behavior which may raise errors.  Bitvector types have numerous constructor (also for legacy reasons). While the set of types accepted is not specifically defined by the abstract interface, bitvector implementations minimally support construction from: `BitVector`, `Bit`, `int`, types which define `__int__`, and sequences of objects that can be used to construct `Bit`. \n",
    "\n",
    "<mark> Caleb - The preceding is a little imprecise as what I mean is a bit/bitvector from the same implementation <mark> \n",
    "\n",
    "Similar to `BitVector` the full set of types that can be used to construct `Bit` types is implementation defined but minimally includes: `Bit`, `bool`, types which define `__bool__`, and the integer constants `0` and `1`. `Bit` types are required to implement the standard bitwise operators: and `&`, or `|`, xor `^`, and not `~`; equals `==` and not equals `!=`; and an if-then-else (`ite`) method which will describe later in this section.  \n",
    "\n",
    "At a high level objects which have an `__int__` method can be thought of objects which are \"castable\" to `int`.  Readers should refer to the relevent python documentation for more details (https://docs.python.org/3/library/functions.html#int). Similarly the `__bool__` method is used define how objects are \"cast\" to `bool`, however, *all* objects are \"castable\" to `bool` unless they raise an error in `__bool__` or `__len__`.  See:  https://docs.python.org/3/library/functions.html#bool and https://docs.python.org/3/library/stdtypes.html#truth.\n",
    "    \n",
    "The SMT-LIB standard (http://smtlib.cs.uiowa.edu/index.shtml) defines a large set of arithmetic and bitwise functions on BitVectors.  These functions are defined in both the base theory (`FixedSizeBitVectors`) and in its associated logics (`BV` and `QF_BV`). The hwtypes bitvector interface defines a method for each of these functions with the exception of `bv2nat`.  For instance the moral equivalent of the smt term `(bvadd x y)` where `x` and `y` are terms of the sort `(_ BitVector n)` would be the hwtypes expression `x.bvadd(y)` where `x` and `y` are of the type `BitVector[n]`. More generally if `f` is a function defined by the SMT-LIB standard on bitvectors than there is equivalent method named `f` on the hwtypes `BitVector`. \n",
    "   \n",
    "As a convenience these methods are defined as operators where applicable.  For example: `x.bvadd(y)` can be invoked with `x + y`. The semantics of sign dependent operators are defined by their type. For example `x < y` invokes `x.bvslt(y)` for signed `x` and `x.bvult(y)` for unsigned `y`.  Most operators and methods attempt to coerce their arguments. Any object that can be used to construct a bitvector will typically be coerced. This was done to allow the use of python integer constants e.g. `bv + 1`.\n",
    "\n",
    "Hwtypes provides two main implementations of the bitvector and bit types.  The first implementation is a pure python functional model over constant values. The second wraps pySMT (described bellow) to generate SMT terms. Finaly, Magma provides a third implementation which allows for the definition of circuits. This uniform interface allows for the same hwtypes programs to be interpretted multiple ways.  First, the pure python implementation can be use to simulate a circuit, the SMT implementation can be used to generate a formal model, and the last to generate actual rtl.  This single source of truth is powerful for designers as they need not implement the same thing multiple times. We believe such a single source of truth should act as executable specification. When specifications are written in a non executable form there is a lot of room for engineer interpretation.  When it comes time to test a design and a functional model formal model, or RTL differ we are left wondering where the error is?  Did all teams interpret specification correctly? If not whose implimentation is wrong?  With an executable spec such questions become trivial.     \n",
    "\n",
    "pySMT is a solver indepented API for constructing SMT formulae. The use of pySMT allows a user to use their SMT solver of choice. Importantly, pySMT allows constructing SMT formulae without a solver.  This allows the constructors of the different BitVector implementations to be uniform. In contrast, SMT-Switch (a similar project) requires a solver object to to build terms. This would be quite inconvient for hwtypes as either a reference to a solver would need to be passed to each bitvector (changing the constructor interface) or there would be need to be an implicit global context which holds a reference to a solver (which would make working with multiple solvers difficult).\n",
    "\n",
    "\n",
    "<mark>Say more about single source of truth.  Why is it important?  What's an example where not having it is a problem?</mark>\n",
    "\n",
    "<mark> Don't totally understand this. What is \"pure python\"?  What would the alternative be?</mark>\n",
    "    \n",
    "<mark> Caleb - the alternative is AST rewriting.  A sufficiently sophisticated python developer would realize something very strange is going in PEak. </mark>    \n",
    " \n",
    "Hwtypes is an expression language only, all statements are executed in pure python following typical python semantics. In Section 2 we will introduce the Language PEak which break away from semantics of pure python and reinterprets the meaning of assignment statements and if statements.\n",
    "    \n",
    "    "
   ]
  },
  {
   "cell_type": "markdown",
   "id": "ae198158",
   "metadata": {},
   "source": [
    "In the following we see how the same function can be invoked with constant python values, symbolic smt values, or to build a magma circuit:"
   ]
  },
  {
   "cell_type": "code",
   "execution_count": null,
   "id": "3e6aa786",
   "metadata": {},
   "outputs": [],
   "source": [
    "def add(x, y):\n",
    "    return x + y"
   ]
  },
  {
   "cell_type": "code",
   "execution_count": null,
   "id": "56bb0614",
   "metadata": {
    "scrolled": false
   },
   "outputs": [],
   "source": [
    "PyDataT = hw.BitVector[8]\n",
    "SmtDataT = hw.SMTBitVector[8]\n",
    "MagmaDataT = m.Bits[8]\n",
    "\n",
    "x = PyDataT(1)\n",
    "y = PyDataT(2)\n",
    "results = add(x, y)\n",
    "print(repr(results))\n",
    "print('---')\n",
    "\n",
    "x = SmtDataT(name='x')\n",
    "y = SmtDataT(name='y')\n",
    "results = add(x, y)\n",
    "print(smt_to_smtlib_string(results))\n",
    "print('---')\n",
    "# del because jupyter seems to keep references alive longer than it should which breaks SMT variables\n",
    "del x\n",
    "del y\n",
    "\n",
    "\n",
    "class Adder(m.Circuit):\n",
    "    io = m.IO(\n",
    "        x=m.In(MagmaDataT), y=m.In(MagmaDataT), results=m.Out(MagmaDataT)\n",
    "    )\n",
    "    io.results @= add(io.x, io.y)\n",
    "\n",
    "\n",
    "print(magma_to_verilog_string(Adder))\n",
    "print('---')"
   ]
  },
  {
   "cell_type": "markdown",
   "id": "8aec148d",
   "metadata": {},
   "source": [
    "The real power of hwtypes comes from its embedding in python which facilitates the generation of more complex formulas. For example, we can generalize add to build an adder tree over any number of inputs with the use of a recursive function:"
   ]
  },
  {
   "cell_type": "code",
   "execution_count": null,
   "id": "7c1f05b3",
   "metadata": {},
   "outputs": [],
   "source": [
    "def add_n(*args):\n",
    "    n = len(args)\n",
    "    if n == 0:\n",
    "        return 0\n",
    "    elif n == 1:\n",
    "        return args[0]\n",
    "    else:\n",
    "        return add_n(*args[:n // 2]) + add_n(*args[n // 2:])"
   ]
  },
  {
   "cell_type": "code",
   "execution_count": null,
   "id": "758d1e4f",
   "metadata": {
    "scrolled": true
   },
   "outputs": [],
   "source": [
    "x = PyDataT(1)\n",
    "y = PyDataT(2)\n",
    "z = PyDataT(3)\n",
    "results = add_n(x, y, z)\n",
    "print(repr(results))\n",
    "print('---')\n",
    "\n",
    "x = SmtDataT(name='x')\n",
    "y = SmtDataT(name='y')\n",
    "z = SmtDataT(name='z')\n",
    "results = add_n(x, y, z)\n",
    "print(smt_to_smtlib_string(results))\n",
    "print('---')\n",
    "del x\n",
    "del y\n",
    "del z\n",
    "\n",
    "\n",
    "class Adder3(m.Circuit):\n",
    "    io = m.IO(\n",
    "        x=m.In(MagmaDataT),\n",
    "        y=m.In(MagmaDataT),\n",
    "        z=m.In(MagmaDataT),\n",
    "        results=m.Out(MagmaDataT)\n",
    "    )\n",
    "    io.results @= add_n(io.x, io.y, io.z)\n",
    "\n",
    "\n",
    "print(magma_to_verilog_string(Adder3))\n",
    "print('---')"
   ]
  },
  {
   "cell_type": "markdown",
   "id": "4d7ed9b8",
   "metadata": {},
   "source": [
    "We can easily further generalize this to build reduction trees over any function. "
   ]
  },
  {
   "cell_type": "code",
   "execution_count": null,
   "id": "1270e5f0",
   "metadata": {},
   "outputs": [],
   "source": [
    "_MISSING = object()  # a sentinel object\n",
    "\n",
    "\n",
    "def gen_tree_reducer(f, ident=_MISSING):\n",
    "    '''\n",
    "    f :: T -> T -> T\n",
    "    ident :: Optional[T]\n",
    "    '''\n",
    "    def reducer(*args):\n",
    "        '''\n",
    "         *args :: List[T]\n",
    "        '''\n",
    "        n = len(args)\n",
    "        if n == 0:\n",
    "            if ident is _MISSING:\n",
    "                raise ValueError('cannot reduce empty list')\n",
    "            return ident\n",
    "        elif n == 1:\n",
    "            return args[0]\n",
    "        else:\n",
    "            return f(reducer(*args[:n // 2]), reducer(*args[n // 2:]))\n",
    "\n",
    "    return reducer"
   ]
  },
  {
   "cell_type": "markdown",
   "id": "2e8a7ced",
   "metadata": {},
   "source": [
    "Using builtin higher order functions (e.g. `map`) is also supported"
   ]
  },
  {
   "cell_type": "code",
   "execution_count": null,
   "id": "0b990ef8",
   "metadata": {},
   "outputs": [],
   "source": [
    "add_n = gen_tree_reducer(add, 0)\n",
    "\n",
    "\n",
    "def sum_of_sq(*args):\n",
    "    return add_n(*map(lambda x: x * x, args))"
   ]
  },
  {
   "cell_type": "code",
   "execution_count": null,
   "id": "86aaa624",
   "metadata": {
    "scrolled": true
   },
   "outputs": [],
   "source": [
    "x = PyDataT(1)\n",
    "y = PyDataT(2)\n",
    "z = PyDataT(3)\n",
    "results = sum_of_sq(x, y, z)\n",
    "print(repr(results))\n",
    "print('---')\n",
    "\n",
    "x = SmtDataT(name='x')\n",
    "y = SmtDataT(name='y')\n",
    "z = SmtDataT(name='z')\n",
    "results = sum_of_sq(x, y, z)\n",
    "print(smt_to_smtlib_string(results))\n",
    "print('---')\n",
    "del x\n",
    "del y\n",
    "del z\n",
    "\n",
    "\n",
    "class SumOfSq3(m.Circuit):\n",
    "    io = m.IO(\n",
    "        x=m.In(MagmaDataT),\n",
    "        y=m.In(MagmaDataT),\n",
    "        z=m.In(MagmaDataT),\n",
    "        results=m.Out(MagmaDataT)\n",
    "    )\n",
    "    io.results @= sum_of_sq(io.x, io.y, io.z)\n",
    "\n",
    "\n",
    "print(magma_to_verilog_string(SumOfSq3))\n",
    "print('---')"
   ]
  },
  {
   "cell_type": "markdown",
   "id": "3df9efea",
   "metadata": {},
   "source": [
    "Note how all `if`'s in `gen_tree_reducer` are resolved without respect to the value's of the data. The hwtypes expression language allows for conditionals using the `ite` method on the bit type.  For example one might write an absolute value function as follows:  "
   ]
  },
  {
   "cell_type": "code",
   "execution_count": null,
   "id": "23729dba",
   "metadata": {},
   "outputs": [],
   "source": [
    "def abs(x):\n",
    "    return (x < 0).ite(-x, x)"
   ]
  },
  {
   "cell_type": "code",
   "execution_count": null,
   "id": "027c7359",
   "metadata": {},
   "outputs": [],
   "source": [
    "PyDataT = hw.SIntVector[8]\n",
    "SmtDataT = hw.SMTSIntVector[8]\n",
    "MagmaDataT = m.SInt[8]\n",
    "\n",
    "x = PyDataT(-1)\n",
    "results = abs(x)\n",
    "print(repr(results))\n",
    "print('---')\n",
    "\n",
    "x = SmtDataT(name='x')\n",
    "results = abs(x)\n",
    "print(smt_to_smtlib_string(results))\n",
    "print('---')\n",
    "del x\n",
    "\n",
    "\n",
    "class Abs(m.Circuit):\n",
    "    io = m.IO(x=m.In(MagmaDataT), results=m.Out(MagmaDataT))\n",
    "    io.results @= abs(io.x)\n",
    "\n",
    "\n",
    "print(magma_to_verilog_string(Abs))\n",
    "print('---')"
   ]
  },
  {
   "cell_type": "markdown",
   "id": "4c982a54",
   "metadata": {},
   "source": [
    "It is important to note that only constantly bounded recursion is possible. This ensures all hwtypes programs may be compiled to some finite circuit (and correspondingly some finite formula in first order logic). This restriction is easy to enforce as the `ite` method behaves like any other python method call. In particular its arguments will be evaluated eagerly, meaning unbounded data dependent recursion will recurse infinitely:"
   ]
  },
  {
   "cell_type": "code",
   "execution_count": null,
   "id": "ab35e178",
   "metadata": {},
   "outputs": [],
   "source": [
    "def factorial(x):\n",
    "    return (x == 1).ite(\n",
    "        x * factorial(\n",
    "            x - 1\n",
    "        ),  # factorial(x - 1) will always be evaluated leading to infinite recursion\n",
    "        type(x)(1),  # cast 1 to the type of x\n",
    "    )\n",
    "\n",
    "\n",
    "try:\n",
    "    x = factorial(PyDataT(5))\n",
    "except RecursionError as e:\n",
    "    print(f'Error: {e}')\n",
    "else:\n",
    "    print(f'5! = {x}')"
   ]
  },
  {
   "cell_type": "markdown",
   "id": "7e2b5dad",
   "metadata": {},
   "source": [
    "Now the above program could be unrolled explicitly, which results in a quite large but finite circuit.  "
   ]
  },
  {
   "cell_type": "code",
   "execution_count": null,
   "id": "c7255f99",
   "metadata": {},
   "outputs": [],
   "source": [
    "PyDataT = hw.UIntVector[8]\n",
    "\n",
    "def bounded_factorial(x):\n",
    "    if not isinstance(x, hw.AbstractBitVector):\n",
    "        raise TypeError()\n",
    "    T = type(x)\n",
    "    MAX_INT = 2**x.size - 1\n",
    "\n",
    "    def inner(x, ctr):\n",
    "        if ctr == 0:\n",
    "            return T(1)\n",
    "        else:\n",
    "            return (x <= 1).ite(\n",
    "                T(1),\n",
    "                x * inner(x - 1, ctr - 1),\n",
    "            )\n",
    "\n",
    "    return inner(x, MAX_INT)\n",
    "\n",
    "\n",
    "x = PyDataT(9)\n",
    "try:\n",
    "    y = bounded_factorial(x)\n",
    "except RecursionError as e:\n",
    "    print(f'Error: {e}')\n",
    "else:\n",
    "    print(f'{x}! = {y}')"
   ]
  },
  {
   "cell_type": "markdown",
   "id": "b58d4082",
   "metadata": {},
   "source": [
    "Note this circuit in fact does not perform the factorial function. Instead it performs: \n",
    "$$\n",
    "f(0) = 1 \\\\\n",
    "f(x) = x*f(x-1) \\mod 2^{\\text{bitwidth}(x)}$$"
   ]
  },
  {
   "cell_type": "code",
   "execution_count": null,
   "id": "2a396e95",
   "metadata": {},
   "outputs": [],
   "source": []
  }
 ],
 "metadata": {
  "kernelspec": {
   "display_name": "Python 3 (ipykernel)",
   "language": "python",
   "name": "python3"
  },
  "language_info": {
   "codemirror_mode": {
    "name": "ipython",
    "version": 3
   },
   "file_extension": ".py",
   "mimetype": "text/x-python",
   "name": "python",
   "nbconvert_exporter": "python",
   "pygments_lexer": "ipython3",
   "version": "3.10.6"
  }
 },
 "nbformat": 4,
 "nbformat_minor": 5
}
