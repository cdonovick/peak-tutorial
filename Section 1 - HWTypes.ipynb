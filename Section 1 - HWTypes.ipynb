{
 "cells": [
  {
   "cell_type": "code",
   "execution_count": 1,
   "id": "fcf18d4a",
   "metadata": {},
   "outputs": [
    {
     "name": "stdout",
     "output_type": "stream",
     "text": [
      "env: CIRCT_HOME=/home/donovick/src/circt/\n"
     ]
    }
   ],
   "source": [
    "%load_ext autoreload\n",
    "%autoreload 2\n",
    "%env CIRCT_HOME=/home/donovick/src/circt/"
   ]
  },
  {
   "cell_type": "code",
   "execution_count": 2,
   "id": "8668cd81",
   "metadata": {
    "scrolled": false
   },
   "outputs": [
    {
     "name": "stderr",
     "output_type": "stream",
     "text": [
      "/home/donovick/work/peak-tutorial/env-peak-tutorial/lib/python3.11/site-packages/ast_tools/immutable_ast.py:10: UserWarning: /home/donovick/work/peak-tutorial/env-peak-tutorial/lib/python3.11/site-packages/ast_tools/immutable_ast.py generated for (3, 9)does not match system version (3, 11)\n",
      "  warnings.warn(f\"{__file__} generated for (3, 9)\"\n"
     ]
    }
   ],
   "source": [
    "from tutorial_utils import magma_to_verilog_string, smt_to_smtlib_string\n",
    "\n",
    "import hwtypes as hw\n",
    "import magma as m"
   ]
  },
  {
   "cell_type": "markdown",
   "id": "9d46de7b",
   "metadata": {},
   "source": [
    "The core of PEak is the python-embedded expression language of hwtypes. hwtypes defines abstract interfaces and type constructors for a number of types and kinds. This includes fixed-width bitvector types, arbitrary precision floating point types, algebraic data types, and a bit (bool) type.  In this Section, we focus on the bit and bitvector types; the others are covered later.\n",
    "\n",
    "A `BitVector` type of length `n` is constucted with `BitVector[n]`. `BitVector` has two key subtypes: `Unsigned` and `Signed`. The author of this tutorial would have preferred for the mixing of signed and unsigned bitvector types to universally raise an error. However, in order to support legacy code, such mixing instead has undefined behavior which may raise errors.  Bitvector types have numerous constructors (also for legacy reasons). While the set of types accepted is not specifically defined by the abstract interface, bitvector implementations minimally support construction from: `BitVector`, `Bit`, `int`, types which define `__int__`, and sequences of objects that can be used to construct `Bit`. \n",
    "\n",
    "Similar to `BitVector`, the full set of types that can be used to construct `Bit` types is implementation-dependent but minimally includes: `Bit`, `bool`, types which define `__bool__`, and the integer constants `0` and `1`. `Bit` types are required to implement the standard bitwise operators: and `&`, or `|`, xor `^`, and not `~`; as well as equals `==`, not equals `!=`, and an if-then-else (`ite`) method which we will describe later in this section.  \n",
    "\n",
    "Note that at a high level, objects which have an `__int__` method can be thought of objects which are \"castable\" to `int`.  Readers should refer to the relevent python documentation for more details (https://docs.python.org/3/library/functions.html#int). Similarly, the `__bool__` method is used to define how objects are \"cast\" to `bool`; however, *all* objects are \"castable\" to `bool` unless they raise an error in `__bool__` or `__len__`.  See:  https://docs.python.org/3/library/functions.html#bool and https://docs.python.org/3/library/stdtypes.html#truth.\n",
    "    \n",
    "The SMT-LIB standard (http://smtlib.cs.uiowa.edu/index.shtml) defines a large set of arithmetic and bitwise functions on bitvectors.  These functions are defined in both the base theory (`FixedSizeBitVectors`) and in its associated logics (`BV` and `QF_BV`). The hwtypes bitvector interface defines a method for each of these functions with the exception of `bv2nat`.  For instance, the equivalent of the smt term `(bvadd x y)` where `x` and `y` are terms of the sort `(_ BitVector n)` would be the hwtypes expression `x.bvadd(y)` where `x` and `y` are of the type `BitVector[n]`. More generally, if `f` is a function defined by the SMT-LIB standard on bitvectors than there is an equivalent method named `f` on the hwtypes `BitVector` type. \n",
    "   \n",
    "As a convenience, these methods are defined as operators where applicable.  For example: `x.bvadd(y)` can be invoked with `x + y`. The semantics of sign-dependent operators are defined by their type. For example, `x < y` invokes `x.bvslt(y)` for signed `x` and `x.bvult(y)` for unsigned `x`.  Most operators and methods attempt to coerce their arguments. Any object that can be used to construct a bitvector will typically be coerced. This was done to allow the use of python integer constants, e.g., `bv + 1`.\n",
    "\n",
    "hwtypes provides two main implementations of the bitvector and bit types.  The first implementation is a pure python functional model over constant values. The second wraps pySMT (described below) to generate SMT terms. Finaly, Magma provides a third implementation which allows for the definition of circuits. This uniform interface allows for the same hwtypes programs to be interpretted multiple ways.  The pure python implementation can be used to simulate a circuit, the SMT implementation can be used to generate a formal model, and the Magma implementation can be used to generate actual RTL.  This single source of truth paradigm is powerful for designers, as they need not implement the same thing multiple times, and the different implementations are guaranteed to be consistent with each other. Code written using the hwtypes bitvector type can be thought of as a formal and executable specification. When specifications are written in a non-formal, non-executable way, there is typically some room for interpretation, which can lead to difficulties when it comes time to test the design.  Often, the functional model, formal model, or RTL differ in some way, and we are left wondering where the error is.  Did all teams interpret the specification similarly and correctly? If not, whose implementation is wrong?  With a single source of truth, such mismatches are avoided by construction.\n",
    "\n",
    "pySMT is a solver-independent python API for constructing SMT formulas. pySMT provides a uniform interface while allowing the user to use their SMT solver of choice under the hood. Importantly, pySMT can also construct SMT formulas without a solver.  This allows the constructors of the different BitVector implementations to be uniform. In contrast, SMT-Switch (a similar project) requires a solver object to to build terms. This would be quite inconvenient for hwtypes as either a reference to a solver would need to be passed to each bitvector (changing the constructor interface) or there would need to be an implicit global context which holds a reference to a solver (which would make working with multiple solvers difficult).\n",
    " \n",
    "hwtypes is an expression language only; all statements are executed in pure python (as opposed to some sort of AST-rewriting-based approach) following typical python semantics. In Section 2, we will introduce the Language PEak which breaks away from the semantics of pure python and reinterprets the meaning of assignment statements and if statements.\n",
    "    \n",
    "    "
   ]
  },
  {
   "cell_type": "markdown",
   "id": "ae198158",
   "metadata": {},
   "source": [
    "Below, we show how the same function can be invoked to do calculations with constant python values, produce symbolic SMT values, or build a Magma circuit:"
   ]
  },
  {
   "cell_type": "code",
   "execution_count": 3,
   "id": "3e6aa786",
   "metadata": {},
   "outputs": [],
   "source": [
    "def add(x, y):\n",
    "    return x + y"
   ]
  },
  {
   "cell_type": "code",
   "execution_count": 4,
   "id": "3c164423",
   "metadata": {},
   "outputs": [
    {
     "name": "stdout",
     "output_type": "stream",
     "text": [
      "BitVector[8](3)\n",
      "---\n",
      "(bvadd x y)\n",
      "---\n",
      "module coreir_add #(\n",
      "    parameter width = 1\n",
      ") (\n",
      "    input [width-1:0] in0,\n",
      "    input [width-1:0] in1,\n",
      "    output [width-1:0] out\n",
      ");\n",
      "  assign out = in0 + in1;\n",
      "endmodule\n",
      "\n",
      "module Adder (\n",
      "    input [7:0] x,\n",
      "    input [7:0] y,\n",
      "    output [7:0] results\n",
      ");\n",
      "wire [7:0] magma_Bits_8_add_inst0_out;\n",
      "coreir_add #(\n",
      "    .width(8)\n",
      ") magma_Bits_8_add_inst0 (\n",
      "    .in0(x),\n",
      "    .in1(y),\n",
      "    .out(magma_Bits_8_add_inst0_out)\n",
      ");\n",
      "assign results = magma_Bits_8_add_inst0_out;\n",
      "endmodule\n",
      "\n",
      "\n",
      "---\n"
     ]
    }
   ],
   "source": [
    "PyDataT = hw.BitVector[8]\n",
    "SmtDataT = hw.SMTBitVector[8]\n",
    "MagmaDataT = m.Bits[8]\n",
    "\n",
    "x = PyDataT(1)\n",
    "y = PyDataT(2)\n",
    "results = add(x, y)\n",
    "print(repr(results))\n",
    "print('---')\n",
    "\n",
    "x = SmtDataT(name='x')\n",
    "y = SmtDataT(name='y')\n",
    "results = add(x, y)\n",
    "print(smt_to_smtlib_string(results))\n",
    "print('---')\n",
    "# del because jupyter seems to keep references alive longer than it should which breaks SMT variables\n",
    "del x\n",
    "del y\n",
    "\n",
    "\n",
    "class Adder(m.Circuit):\n",
    "    io = m.IO(\n",
    "        x=m.In(MagmaDataT), y=m.In(MagmaDataT), results=m.Out(MagmaDataT)\n",
    "    )\n",
    "    io.results @= add(io.x, io.y)\n",
    "\n",
    "\n",
    "print(magma_to_verilog_string(Adder))\n",
    "print('---')"
   ]
  },
  {
   "cell_type": "markdown",
   "id": "8aec148d",
   "metadata": {},
   "source": [
    "The real power of hwtypes comes from its embedding in python which facilitates the generation of more complex formulas. For example, we can generalize add to build an adder tree over any number of inputs with the use of a recursive function:"
   ]
  },
  {
   "cell_type": "code",
   "execution_count": 5,
   "id": "7c1f05b3",
   "metadata": {},
   "outputs": [],
   "source": [
    "def add_n(*args):\n",
    "    n = len(args)\n",
    "    if n == 0:\n",
    "        return 0\n",
    "    elif n == 1:\n",
    "        return args[0]\n",
    "    else:\n",
    "        return add_n(*args[:n // 2]) + add_n(*args[n // 2:])"
   ]
  },
  {
   "cell_type": "code",
   "execution_count": 6,
   "id": "758d1e4f",
   "metadata": {
    "scrolled": true
   },
   "outputs": [
    {
     "name": "stdout",
     "output_type": "stream",
     "text": [
      "BitVector[8](6)\n",
      "---\n",
      "(bvadd x (bvadd y z))\n",
      "---\n",
      "module coreir_add #(\n",
      "    parameter width = 1\n",
      ") (\n",
      "    input [width-1:0] in0,\n",
      "    input [width-1:0] in1,\n",
      "    output [width-1:0] out\n",
      ");\n",
      "  assign out = in0 + in1;\n",
      "endmodule\n",
      "\n",
      "module Adder3 (\n",
      "    input [7:0] x,\n",
      "    input [7:0] y,\n",
      "    input [7:0] z,\n",
      "    output [7:0] results\n",
      ");\n",
      "wire [7:0] magma_Bits_8_add_inst0_out;\n",
      "wire [7:0] magma_Bits_8_add_inst1_out;\n",
      "coreir_add #(\n",
      "    .width(8)\n",
      ") magma_Bits_8_add_inst0 (\n",
      "    .in0(y),\n",
      "    .in1(z),\n",
      "    .out(magma_Bits_8_add_inst0_out)\n",
      ");\n",
      "coreir_add #(\n",
      "    .width(8)\n",
      ") magma_Bits_8_add_inst1 (\n",
      "    .in0(x),\n",
      "    .in1(magma_Bits_8_add_inst0_out),\n",
      "    .out(magma_Bits_8_add_inst1_out)\n",
      ");\n",
      "assign results = magma_Bits_8_add_inst1_out;\n",
      "endmodule\n",
      "\n",
      "\n",
      "---\n"
     ]
    }
   ],
   "source": [
    "x = PyDataT(1)\n",
    "y = PyDataT(2)\n",
    "z = PyDataT(3)\n",
    "results = add_n(x, y, z)\n",
    "print(repr(results))\n",
    "print('---')\n",
    "\n",
    "x = SmtDataT(name='x')\n",
    "y = SmtDataT(name='y')\n",
    "z = SmtDataT(name='z')\n",
    "results = add_n(x, y, z)\n",
    "print(smt_to_smtlib_string(results))\n",
    "print('---')\n",
    "del x\n",
    "del y\n",
    "del z\n",
    "\n",
    "\n",
    "class Adder3(m.Circuit):\n",
    "    io = m.IO(\n",
    "        x=m.In(MagmaDataT),\n",
    "        y=m.In(MagmaDataT),\n",
    "        z=m.In(MagmaDataT),\n",
    "        results=m.Out(MagmaDataT)\n",
    "    )\n",
    "    io.results @= add_n(io.x, io.y, io.z)\n",
    "\n",
    "\n",
    "print(magma_to_verilog_string(Adder3))\n",
    "print('---')"
   ]
  },
  {
   "cell_type": "markdown",
   "id": "4d7ed9b8",
   "metadata": {},
   "source": [
    "We can easily further generalize this to build reduction trees over any function. \n",
    "\n",
    "<mark>Are you assuming f is commutative and associative here?  What assumptions are on f?</mark>\n",
    "\n",
    "<mark>Caleb - I am not making any assumptions beyond the function signature.  I am not claiming the generated reduction tree is equivelent to a lfold/rfold (if I was I would need to assume associativity).  </mark>\n",
    "\n",
    "<mark>Ok got it - in that case, maybe rename ident to something else - base_case or empty or something?</mark>\n",
    "\n",
    "<mark>I don't think a function needs to be associative to have an identity.  We typically talk about Identities with regards to operators and not functions, however, there really isn't a difference between the two. Let $M$ be a magma (a set which is closed under a binary operator which I will call $+$). $M$ has a left identity iff $\\exists l \\in M\\ \\forall x \\in M:\\ l + x = x$, similary $M$ has a right identity iff $\\exists r \\in M\\ \\forall x \\in M:\\ x + r = x$. We say $M$ has an identity (or more verbosely a two-sided identity) if it has an element $i$ which is both a left and a right identity i.e. $\\exists i \\in M\\ \\forall x \\in M:\\ i + x = x \\land x + i = x$. Similarly we can say a function `f :: T -> T -> T` has an identity `i :: T` iff `f(x, i) == f(i, x) == x` forall `x :: T`.  Now nothing about the following code requires that `f` actually have an identity or be associative, however, it's unlikely to be useful without those properties.</mark>\n",
    "\n",
    "<mark>Fun fact a magma can have many distinct left or right identies, however, if it has both left and right identies then it has a unique two-side identy.  The proof of this is trivial let $l_0, l_1, ... \\in M$ be left identities and $r_0, r_1, ... \\in M$ be right identities. Now $l_i = l_i + r_j = r_j$ for all $i$ and $j$ and hance by transitivity there is a unique identity element.</mark>"
   ]
  },
  {
   "cell_type": "code",
   "execution_count": 7,
   "id": "1270e5f0",
   "metadata": {},
   "outputs": [],
   "source": [
    "_MISSING = object()  # a sentinel object\n",
    "\n",
    "def gen_tree_reducer(f, ident=_MISSING):\n",
    "    '''\n",
    "    f :: T -> T -> T\n",
    "    ident :: Optional[T]\n",
    "    '''\n",
    "    def reducer(*args):\n",
    "        '''\n",
    "         *args :: List[T]\n",
    "        '''\n",
    "        n = len(args)\n",
    "        if n == 0:\n",
    "            if ident is _MISSING:\n",
    "                raise ValueError('cannot reduce empty list')\n",
    "            return ident\n",
    "        elif n == 1:\n",
    "            return args[0]\n",
    "        else:\n",
    "            return f(reducer(*args[:n // 2]), reducer(*args[n // 2:]))\n",
    "\n",
    "    return reducer"
   ]
  },
  {
   "cell_type": "markdown",
   "id": "2e8a7ced",
   "metadata": {},
   "source": [
    "The use of built-in higher-order functions (e.g., `map`) is also supported"
   ]
  },
  {
   "cell_type": "code",
   "execution_count": 8,
   "id": "0b990ef8",
   "metadata": {},
   "outputs": [],
   "source": [
    "add_n = gen_tree_reducer(add, 0)\n",
    "\n",
    "\n",
    "def sum_of_sq(*args):\n",
    "    return add_n(*map(lambda x: x * x, args))"
   ]
  },
  {
   "cell_type": "code",
   "execution_count": 9,
   "id": "86aaa624",
   "metadata": {
    "scrolled": true
   },
   "outputs": [
    {
     "name": "stdout",
     "output_type": "stream",
     "text": [
      "BitVector[8](14)\n",
      "---\n",
      "(bvadd (bvmul x x) (bvadd (bvmul y y) (bvmul z z)))\n",
      "---\n",
      "module coreir_mul #(\n",
      "    parameter width = 1\n",
      ") (\n",
      "    input [width-1:0] in0,\n",
      "    input [width-1:0] in1,\n",
      "    output [width-1:0] out\n",
      ");\n",
      "  assign out = in0 * in1;\n",
      "endmodule\n",
      "\n",
      "module coreir_add #(\n",
      "    parameter width = 1\n",
      ") (\n",
      "    input [width-1:0] in0,\n",
      "    input [width-1:0] in1,\n",
      "    output [width-1:0] out\n",
      ");\n",
      "  assign out = in0 + in1;\n",
      "endmodule\n",
      "\n",
      "module SumOfSq3 (\n",
      "    input [7:0] x,\n",
      "    input [7:0] y,\n",
      "    input [7:0] z,\n",
      "    output [7:0] results\n",
      ");\n",
      "wire [7:0] magma_Bits_8_add_inst0_out;\n",
      "wire [7:0] magma_Bits_8_add_inst1_out;\n",
      "wire [7:0] magma_Bits_8_mul_inst0_out;\n",
      "wire [7:0] magma_Bits_8_mul_inst1_out;\n",
      "wire [7:0] magma_Bits_8_mul_inst2_out;\n",
      "coreir_add #(\n",
      "    .width(8)\n",
      ") magma_Bits_8_add_inst0 (\n",
      "    .in0(magma_Bits_8_mul_inst1_out),\n",
      "    .in1(magma_Bits_8_mul_inst2_out),\n",
      "    .out(magma_Bits_8_add_inst0_out)\n",
      ");\n",
      "coreir_add #(\n",
      "    .width(8)\n",
      ") magma_Bits_8_add_inst1 (\n",
      "    .in0(magma_Bits_8_mul_inst0_out),\n",
      "    .in1(magma_Bits_8_add_inst0_out),\n",
      "    .out(magma_Bits_8_add_inst1_out)\n",
      ");\n",
      "coreir_mul #(\n",
      "    .width(8)\n",
      ") magma_Bits_8_mul_inst0 (\n",
      "    .in0(x),\n",
      "    .in1(x),\n",
      "    .out(magma_Bits_8_mul_inst0_out)\n",
      ");\n",
      "coreir_mul #(\n",
      "    .width(8)\n",
      ") magma_Bits_8_mul_inst1 (\n",
      "    .in0(y),\n",
      "    .in1(y),\n",
      "    .out(magma_Bits_8_mul_inst1_out)\n",
      ");\n",
      "coreir_mul #(\n",
      "    .width(8)\n",
      ") magma_Bits_8_mul_inst2 (\n",
      "    .in0(z),\n",
      "    .in1(z),\n",
      "    .out(magma_Bits_8_mul_inst2_out)\n",
      ");\n",
      "assign results = magma_Bits_8_add_inst1_out;\n",
      "endmodule\n",
      "\n",
      "\n",
      "---\n"
     ]
    }
   ],
   "source": [
    "x = PyDataT(1)\n",
    "y = PyDataT(2)\n",
    "z = PyDataT(3)\n",
    "results = sum_of_sq(x, y, z)\n",
    "print(repr(results))\n",
    "print('---')\n",
    "\n",
    "x = SmtDataT(name='x')\n",
    "y = SmtDataT(name='y')\n",
    "z = SmtDataT(name='z')\n",
    "results = sum_of_sq(x, y, z)\n",
    "print(smt_to_smtlib_string(results))\n",
    "print('---')\n",
    "del x\n",
    "del y\n",
    "del z\n",
    "\n",
    "\n",
    "class SumOfSq3(m.Circuit):\n",
    "    io = m.IO(\n",
    "        x=m.In(MagmaDataT),\n",
    "        y=m.In(MagmaDataT),\n",
    "        z=m.In(MagmaDataT),\n",
    "        results=m.Out(MagmaDataT)\n",
    "    )\n",
    "    io.results @= sum_of_sq(io.x, io.y, io.z)\n",
    "\n",
    "\n",
    "print(magma_to_verilog_string(SumOfSq3))\n",
    "print('---')"
   ]
  },
  {
   "cell_type": "markdown",
   "id": "3df9efea",
   "metadata": {},
   "source": [
    "Note how all `if`'s in `gen_tree_reducer` are resolved without accessing the values of the data. The hwtypes expression language allows for conditionals using the `ite` method on the bit type.  For example one might write an absolute value function as follows:  "
   ]
  },
  {
   "cell_type": "code",
   "execution_count": 10,
   "id": "23729dba",
   "metadata": {},
   "outputs": [],
   "source": [
    "def abs(x):\n",
    "    return (x < 0).ite(-x, x)"
   ]
  },
  {
   "cell_type": "code",
   "execution_count": 11,
   "id": "027c7359",
   "metadata": {},
   "outputs": [
    {
     "name": "stdout",
     "output_type": "stream",
     "text": [
      "SIntVector[8](1)\n",
      "---\n",
      "(ite (bvslt x #b00000000) (bvneg x) x)\n",
      "---\n",
      "module coreir_slt #(\n",
      "    parameter width = 1\n",
      ") (\n",
      "    input [width-1:0] in0,\n",
      "    input [width-1:0] in1,\n",
      "    output out\n",
      ");\n",
      "  assign out = $signed(in0) < $signed(in1);\n",
      "endmodule\n",
      "\n",
      "module coreir_neg #(\n",
      "    parameter width = 1\n",
      ") (\n",
      "    input [width-1:0] in,\n",
      "    output [width-1:0] out\n",
      ");\n",
      "  assign out = -in;\n",
      "endmodule\n",
      "\n",
      "module coreir_mux #(\n",
      "    parameter width = 1\n",
      ") (\n",
      "    input [width-1:0] in0,\n",
      "    input [width-1:0] in1,\n",
      "    input sel,\n",
      "    output [width-1:0] out\n",
      ");\n",
      "  assign out = sel ? in1 : in0;\n",
      "endmodule\n",
      "\n",
      "module coreir_const #(\n",
      "    parameter width = 1,\n",
      "    parameter value = 1\n",
      ") (\n",
      "    output [width-1:0] out\n",
      ");\n",
      "  assign out = value;\n",
      "endmodule\n",
      "\n",
      "module commonlib_muxn__N2__width8 (\n",
      "    input [7:0] in_data [1:0],\n",
      "    input [0:0] in_sel,\n",
      "    output [7:0] out\n",
      ");\n",
      "wire [7:0] _join_out;\n",
      "coreir_mux #(\n",
      "    .width(8)\n",
      ") _join (\n",
      "    .in0(in_data[0]),\n",
      "    .in1(in_data[1]),\n",
      "    .sel(in_sel[0]),\n",
      "    .out(_join_out)\n",
      ");\n",
      "assign out = _join_out;\n",
      "endmodule\n",
      "\n",
      "module Mux2xSInt8 (\n",
      "    input [7:0] I0,\n",
      "    input [7:0] I1,\n",
      "    input S,\n",
      "    output [7:0] O\n",
      ");\n",
      "wire [7:0] coreir_commonlib_mux2x8_inst0_out;\n",
      "wire [7:0] coreir_commonlib_mux2x8_inst0_in_data [1:0];\n",
      "assign coreir_commonlib_mux2x8_inst0_in_data[1] = I1;\n",
      "assign coreir_commonlib_mux2x8_inst0_in_data[0] = I0;\n",
      "commonlib_muxn__N2__width8 coreir_commonlib_mux2x8_inst0 (\n",
      "    .in_data(coreir_commonlib_mux2x8_inst0_in_data),\n",
      "    .in_sel(S),\n",
      "    .out(coreir_commonlib_mux2x8_inst0_out)\n",
      ");\n",
      "assign O = coreir_commonlib_mux2x8_inst0_out;\n",
      "endmodule\n",
      "\n",
      "module Abs (\n",
      "    input [7:0] x,\n",
      "    output [7:0] results\n",
      ");\n",
      "wire [7:0] Mux2xSInt8_inst0_O;\n",
      "wire [7:0] const_0_8_out;\n",
      "wire [7:0] magma_SInt_8_neg_inst0_out;\n",
      "wire magma_SInt_8_slt_inst0_out;\n",
      "Mux2xSInt8 Mux2xSInt8_inst0 (\n",
      "    .I0(x),\n",
      "    .I1(magma_SInt_8_neg_inst0_out),\n",
      "    .S(magma_SInt_8_slt_inst0_out),\n",
      "    .O(Mux2xSInt8_inst0_O)\n",
      ");\n",
      "coreir_const #(\n",
      "    .value(8'h00),\n",
      "    .width(8)\n",
      ") const_0_8 (\n",
      "    .out(const_0_8_out)\n",
      ");\n",
      "coreir_neg #(\n",
      "    .width(8)\n",
      ") magma_SInt_8_neg_inst0 (\n",
      "    .in(x),\n",
      "    .out(magma_SInt_8_neg_inst0_out)\n",
      ");\n",
      "coreir_slt #(\n",
      "    .width(8)\n",
      ") magma_SInt_8_slt_inst0 (\n",
      "    .in0(x),\n",
      "    .in1(const_0_8_out),\n",
      "    .out(magma_SInt_8_slt_inst0_out)\n",
      ");\n",
      "assign results = Mux2xSInt8_inst0_O;\n",
      "endmodule\n",
      "\n",
      "\n",
      "---\n"
     ]
    }
   ],
   "source": [
    "PyDataT = hw.SIntVector[8]\n",
    "SmtDataT = hw.SMTSIntVector[8]\n",
    "MagmaDataT = m.SInt[8]\n",
    "\n",
    "x = PyDataT(-1)\n",
    "results = abs(x)\n",
    "print(repr(results))\n",
    "print('---')\n",
    "\n",
    "x = SmtDataT(name='x')\n",
    "results = abs(x)\n",
    "print(smt_to_smtlib_string(results))\n",
    "print('---')\n",
    "del x\n",
    "\n",
    "\n",
    "class Abs(m.Circuit):\n",
    "    io = m.IO(x=m.In(MagmaDataT), results=m.Out(MagmaDataT))\n",
    "    io.results @= abs(io.x)\n",
    "\n",
    "\n",
    "print(magma_to_verilog_string(Abs))\n",
    "print('---')"
   ]
  },
  {
   "cell_type": "markdown",
   "id": "4c982a54",
   "metadata": {},
   "source": [
    "It is important to note that only constantly bounded recursion is possible. This ensures all hwtypes programs may be compiled to some finite circuit (and correspondingly some finite formula in first order logic). This restriction is easy to enforce as the `ite` method behaves like any other python method call. In particular its arguments will be evaluated eagerly, meaning unbounded data-dependent recursion will recurse infinitely:\n"
   ]
  },
  {
   "cell_type": "code",
   "execution_count": 12,
   "id": "ab35e178",
   "metadata": {},
   "outputs": [
    {
     "name": "stdout",
     "output_type": "stream",
     "text": [
      "Error: maximum recursion depth exceeded in comparison\n"
     ]
    }
   ],
   "source": [
    "def factorial(x):\n",
    "    return (x != 1).ite(\n",
    "            x * factorial(x - 1),  # factorial(x - 1) will always be evaluated leading to infinite recursion\n",
    "            type(x)(1),  # cast 1 to the type of x\n",
    "        )\n",
    "\n",
    "\n",
    "try:\n",
    "    x = factorial(PyDataT(5))\n",
    "except RecursionError as e:\n",
    "    print(f'Error: {e}')\n",
    "else:\n",
    "    print(f'5! = {x}')"
   ]
  },
  {
   "cell_type": "markdown",
   "id": "7e2b5dad",
   "metadata": {},
   "source": [
    "Now the above program could be unrolled explicitly, which results in a quite large but finite circuit.  "
   ]
  },
  {
   "cell_type": "code",
   "execution_count": 13,
   "id": "c7255f99",
   "metadata": {},
   "outputs": [
    {
     "name": "stdout",
     "output_type": "stream",
     "text": [
      "9! = 128\n"
     ]
    }
   ],
   "source": [
    "PyDataT = hw.UIntVector[8]\n",
    "\n",
    "def bounded_factorial(x):\n",
    "    if not isinstance(x, hw.AbstractBitVector):\n",
    "        raise TypeError()\n",
    "    T = type(x)\n",
    "    MAX_INT = 2**x.size - 1\n",
    "\n",
    "    def inner(x, ctr):\n",
    "        if ctr == 0:\n",
    "            return T(1)\n",
    "        else:\n",
    "            return (x <= 1).ite(\n",
    "                T(1),\n",
    "                x * inner(x - 1, ctr - 1),\n",
    "            )\n",
    "\n",
    "    return inner(x, MAX_INT)\n",
    "\n",
    "\n",
    "x = PyDataT(9)\n",
    "try:\n",
    "    y = bounded_factorial(x)\n",
    "except RecursionError as e:\n",
    "    print(f'Error: {e}')\n",
    "else:\n",
    "    print(f'{x}! = {y}')"
   ]
  },
  {
   "cell_type": "markdown",
   "id": "b58d4082",
   "metadata": {},
   "source": [
    "Note that this circuit does not in fact perform the factorial function. Instead, it performs: \n",
    "$$\n",
    "f(0) = 1 \\\\\n",
    "f(x) = x*f(x-1) \\mod 2^{\\text{bitwidth}(x)}$$"
   ]
  },
  {
   "cell_type": "markdown",
   "id": "a35c1bea",
   "metadata": {},
   "source": [
    "In the next example we will show a significantly more involved metaprogramming example.  We will develop a verilog style caste statement where a value is matched against a pattern with x's describing dont care.  First we will show the desired syntax and an implementation using python control flow which works for python values.  Then we will show how the same functionality can be achieve in hwtypes for all implementations."
   ]
  },
  {
   "cell_type": "code",
   "execution_count": 14,
   "id": "2a396e95",
   "metadata": {},
   "outputs": [
    {
     "name": "stdout",
     "output_type": "stream",
     "text": [
      "2\n"
     ]
    }
   ],
   "source": [
    "DataT = hw.BitVector[3]\n",
    "Bit = hw.Bit\n",
    "\n",
    "def match(\n",
    "        value: DataT, \n",
    "        case_dict: dict[str, DataT],\n",
    "        default: DataT) -> DataT:\n",
    "    for pattern, case_value in case_dict.items():\n",
    "        if matches_string(value, pattern):\n",
    "            return case_value\n",
    "    return default\n",
    "\n",
    "def matches_string(value: DataT, pattern: str) -> Bit:\n",
    "    if len(value) != len(pattern):\n",
    "        raise ValueError('pattern and value must be the same length')\n",
    "\n",
    "    for v, c in zip(value, reversed(pattern)):\n",
    "        if c == 'x':\n",
    "            continue\n",
    "        elif c == '0' or c == '1':\n",
    "            if v != Bit(int(c)):\n",
    "                return Bit(False)\n",
    "        else:\n",
    "            raise ValueError('invalid pattern')\n",
    "            \n",
    "    return Bit(True)\n",
    "    \n",
    "x = DataT(0b011)\n",
    "\n",
    "\n",
    "y = match(\n",
    "    x, \n",
    "    {\n",
    "        '1x0': DataT(0), \n",
    "        '11x': DataT(1),\n",
    "    },\n",
    "    default=DataT(2)\n",
    ")\n",
    "\n",
    "print(y)"
   ]
  },
  {
   "cell_type": "markdown",
   "id": "d61818dd",
   "metadata": {},
   "source": [
    "The behavior of the `match` function should be fairly clear.  It iterates through the `case_dict` and tests whether the value matches the pattern with the `matches_string` function. If no matching pattern is found the `default` value is returned.\n",
    "\n",
    "The `matches_string` co-iterates the bits of the value (`v`) and the characters of the pattern (`c`). The pattern is reversed as python strings are MSB 0 where hwtypes uses LSB 0. If a `v` is found that does not match the corresponding `c` the value does not match the pattern, otherwise they match.\n",
    "\n",
    "The above code has two data dependent `if` statement which must be removed to allow the code to work on all hwtypes implementations.  Specifically, `if matches_string(value, pattern):` and `if v != Bit(int(c)):`.  We will now demonstrate how to eliminate these `if` statements to achieve the same functionality in pure hwtypes.  We will start by rewriting `matches_string` as it is the more simple case."
   ]
  },
  {
   "cell_type": "code",
   "execution_count": 15,
   "id": "428d6147",
   "metadata": {},
   "outputs": [],
   "source": [
    "def matches_string(value: DataT, pattern: str) -> Bit:\n",
    "    if len(value) != len(pattern):\n",
    "        raise ValueError('pattern and value must be the same length')\n",
    "\n",
    "    matches = Bit(True)\n",
    "    for v, c in zip(value, reversed(pattern)):\n",
    "        if c == 'x':\n",
    "            continue\n",
    "        elif c == '1':\n",
    "            matches &= v\n",
    "        elif c == '0':\n",
    "            matches &= ~v\n",
    "        else:\n",
    "            raise ValueError('invalid pattern')\n",
    "\n",
    "    return matches"
   ]
  },
  {
   "cell_type": "markdown",
   "id": "0952ca25",
   "metadata": {},
   "source": [
    "This matches_string function operates similar to other except instead of directly comparing the bits to characters the bits (or their negation) are and-reduced into the `matches` value. At first glance it might seem like there is still data dependent if statements, however this subtly incorrect, they rely only python string values not hwtypes values.\n",
    "\n",
    "Next we will show to build the `match` function by working bottom up building an ite-expression."
   ]
  },
  {
   "cell_type": "code",
   "execution_count": 16,
   "id": "8d4a19f4",
   "metadata": {},
   "outputs": [],
   "source": [
    "def match(\n",
    "        value: DataT, \n",
    "        case_dict: dict[str, DataT],\n",
    "        default: DataT) -> DataT:\n",
    "    matched_value = default\n",
    "    for pattern, case_value in reversed(case_dict.items()):\n",
    "        matched_value = matches_string(value, pattern).ite(\n",
    "                            case_value,\n",
    "                            matched_value\n",
    "                        )\n",
    "    return matched_value"
   ]
  },
  {
   "cell_type": "markdown",
   "id": "0e5bfb29",
   "metadata": {},
   "source": [
    "The above starts by assigning the `matched_value` to `default` then iterates the `case_dict` in reverse. This when unrolled has the generates the moral equivelent of:\n",
    "```Python\n",
    "def match(...):\n",
    "    if matches_string(value, pattern_0):\n",
    "        return case_value_0\n",
    "    else:\n",
    "        if matches_string(value, pattern_1):\n",
    "            return case_value_1\n",
    "        else:\n",
    "            ...\n",
    "                else:\n",
    "                    return default\n",
    "```"
   ]
  },
  {
   "cell_type": "code",
   "execution_count": 17,
   "id": "7b2cd6bf",
   "metadata": {},
   "outputs": [
    {
     "name": "stdout",
     "output_type": "stream",
     "text": [
      "2\n"
     ]
    }
   ],
   "source": [
    "x = DataT(0b011)\n",
    "\n",
    "\n",
    "y = match(\n",
    "    x, \n",
    "    {\n",
    "        '1x0': DataT(0), \n",
    "        '11x': DataT(1),\n",
    "    },\n",
    "    default=DataT(2)\n",
    ")\n",
    "\n",
    "print(y)"
   ]
  },
  {
   "cell_type": "code",
   "execution_count": null,
   "id": "28afc973",
   "metadata": {},
   "outputs": [],
   "source": []
  }
 ],
 "metadata": {
  "kernelspec": {
   "display_name": "Python 3 (ipykernel)",
   "language": "python",
   "name": "python3"
  },
  "language_info": {
   "codemirror_mode": {
    "name": "ipython",
    "version": 3
   },
   "file_extension": ".py",
   "mimetype": "text/x-python",
   "name": "python",
   "nbconvert_exporter": "python",
   "pygments_lexer": "ipython3",
   "version": "3.11.2"
  }
 },
 "nbformat": 4,
 "nbformat_minor": 5
}
