{
 "cells": [
  {
   "cell_type": "markdown",
   "id": "cfa1b651",
   "metadata": {},
   "source": [
    "in this section we will provide a brief overview of python features that will be required to understand this tutorial."
   ]
  },
  {
   "cell_type": "code",
   "execution_count": null,
   "id": "d47c93f8",
   "metadata": {},
   "outputs": [],
   "source": [
    "# closures\n",
    "def make_const_add(x):\n",
    "    def const_add(n):\n",
    "        return n + x\n",
    "    return const_add"
   ]
  },
  {
   "cell_type": "code",
   "execution_count": null,
   "id": "1ff477d8",
   "metadata": {},
   "outputs": [],
   "source": [
    "# decorators"
   ]
  },
  {
   "cell_type": "code",
   "execution_count": null,
   "id": "2f7ec6f5",
   "metadata": {},
   "outputs": [],
   "source": [
    "# decorator with implicit param"
   ]
  }
 ],
 "metadata": {
  "kernelspec": {
   "display_name": "Python 3 (ipykernel)",
   "language": "python",
   "name": "python3"
  },
  "language_info": {
   "codemirror_mode": {
    "name": "ipython",
    "version": 3
   },
   "file_extension": ".py",
   "mimetype": "text/x-python",
   "name": "python",
   "nbconvert_exporter": "python",
   "pygments_lexer": "ipython3",
   "version": "3.10.6"
  }
 },
 "nbformat": 4,
 "nbformat_minor": 5
}
